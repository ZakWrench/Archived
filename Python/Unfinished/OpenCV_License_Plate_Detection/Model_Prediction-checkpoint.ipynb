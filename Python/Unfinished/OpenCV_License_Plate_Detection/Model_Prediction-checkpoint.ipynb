{
 "cells": [
  {
   "cell_type": "code",
   "execution_count": 1,
   "id": "5db795e9",
   "metadata": {},
   "outputs": [],
   "source": [
    "import numpy as np\n",
    "import cv2\n",
    "import matplotlib.pyplot as plt\n",
    "import tensorflow as tf"
   ]
  },
  {
   "cell_type": "code",
   "execution_count": 2,
   "id": "830b1d14",
   "metadata": {},
   "outputs": [],
   "source": [
    "from tensorflow.keras.preprocessing.image import load_img, img_to_array"
   ]
  },
  {
   "cell_type": "code",
   "execution_count": 3,
   "id": "0d5da208",
   "metadata": {},
   "outputs": [
    {
     "name": "stdout",
     "output_type": "stream",
     "text": [
      "model loaded successfully\n"
     ]
    }
   ],
   "source": [
    "model = tf.keras.models.load_model('./models/object_detection.h5')\n",
    "print('model loaded successfully')"
   ]
  },
  {
   "cell_type": "code",
   "execution_count": 4,
   "id": "c0a0a817",
   "metadata": {},
   "outputs": [],
   "source": [
    "path = './207.jpeg'\n",
    "image = load_img(path) #PIL object\n",
    "image = np.array(image,dtype=np.uint8) #8 bit array(0,255)\n",
    "image1 = load_img(path, target_size= (224, 224))\n",
    "image_arr_224 = img_to_array(image1)/255 #Convert into array and get the normalized output\n"
   ]
  },
  {
   "cell_type": "code",
   "execution_count": 5,
   "id": "a7762136",
   "metadata": {},
   "outputs": [
    {
     "name": "stdout",
     "output_type": "stream",
     "text": [
      "Height of the image =  847\n",
      "Width of the image =  1280\n"
     ]
    }
   ],
   "source": [
    "h,w,d = image.shape\n",
    "print('Height of the image = ', h)\n",
    "print('Width of the image = ', w)"
   ]
  },
  {
   "cell_type": "code",
   "execution_count": 6,
   "id": "1668a641",
   "metadata": {},
   "outputs": [],
   "source": [
    "#plt.figure(figsize=(10,8))\n",
    "#plt.imshow(image)\n",
    "#plt.show"
   ]
  },
  {
   "cell_type": "code",
   "execution_count": 7,
   "id": "ab7416f0",
   "metadata": {},
   "outputs": [],
   "source": [
    "#plt.imshow(image)"
   ]
  },
  {
   "cell_type": "code",
   "execution_count": 8,
   "id": "9ae6e4a4",
   "metadata": {},
   "outputs": [
    {
     "data": {
      "text/plain": [
       "(224, 224, 3)"
      ]
     },
     "execution_count": 8,
     "metadata": {},
     "output_type": "execute_result"
    }
   ],
   "source": [
    "image_arr_224.shape"
   ]
  },
  {
   "cell_type": "code",
   "execution_count": 9,
   "id": "3679f161",
   "metadata": {},
   "outputs": [
    {
     "data": {
      "text/plain": [
       "(1, 224, 224, 3)"
      ]
     },
     "execution_count": 9,
     "metadata": {},
     "output_type": "execute_result"
    }
   ],
   "source": [
    "test_arr = image_arr_224.reshape(1,224,224,3)\n",
    "test_arr.shape"
   ]
  },
  {
   "cell_type": "code",
   "execution_count": 10,
   "id": "012a99ac",
   "metadata": {},
   "outputs": [
    {
     "data": {
      "text/plain": [
       "array([[0.3471356 , 0.7907444 , 0.37537718, 0.63495564]], dtype=float32)"
      ]
     },
     "execution_count": 10,
     "metadata": {},
     "output_type": "execute_result"
    }
   ],
   "source": [
    "#Make predictions\n",
    "coords = model.predict(test_arr)\n",
    "coords"
   ]
  },
  {
   "cell_type": "code",
   "execution_count": 11,
   "id": "aeef7957",
   "metadata": {},
   "outputs": [
    {
     "data": {
      "text/plain": [
       "array([[ 444.33357239, 1012.15286255,  317.94446993,  537.80743098]])"
      ]
     },
     "execution_count": 11,
     "metadata": {},
     "output_type": "execute_result"
    }
   ],
   "source": [
    "#denormalize the values\n",
    "denorm = np.array([w,w,h,h])\n",
    "coords = coords * denorm\n",
    "coords"
   ]
  },
  {
   "cell_type": "code",
   "execution_count": 12,
   "id": "78d9e402",
   "metadata": {},
   "outputs": [
    {
     "data": {
      "text/plain": [
       "array([[ 444, 1012,  317,  537]])"
      ]
     },
     "execution_count": 12,
     "metadata": {},
     "output_type": "execute_result"
    }
   ],
   "source": [
    "coords = coords.astype(np.int32)\n",
    "coords"
   ]
  },
  {
   "cell_type": "code",
   "execution_count": 13,
   "id": "414e3e37",
   "metadata": {},
   "outputs": [
    {
     "name": "stdout",
     "output_type": "stream",
     "text": [
      "(444, 317) (1012, 537)\n"
     ]
    },
    {
     "data": {
      "text/plain": [
       "array([[[ 27,  32,  35],\n",
       "        [ 26,  31,  34],\n",
       "        [ 24,  29,  32],\n",
       "        ...,\n",
       "        [163, 157, 141],\n",
       "        [170, 163, 147],\n",
       "        [170, 163, 147]],\n",
       "\n",
       "       [[ 26,  31,  34],\n",
       "        [ 26,  31,  34],\n",
       "        [ 25,  30,  33],\n",
       "        ...,\n",
       "        [163, 157, 141],\n",
       "        [170, 163, 147],\n",
       "        [170, 163, 145]],\n",
       "\n",
       "       [[ 26,  31,  34],\n",
       "        [ 26,  31,  34],\n",
       "        [ 26,  31,  34],\n",
       "        ...,\n",
       "        [164, 158, 142],\n",
       "        [170, 163, 147],\n",
       "        [170, 163, 145]],\n",
       "\n",
       "       ...,\n",
       "\n",
       "       [[ 29,  29,  21],\n",
       "        [ 30,  30,  22],\n",
       "        [ 31,  31,  23],\n",
       "        ...,\n",
       "        [121, 122, 124],\n",
       "        [120, 124, 127],\n",
       "        [120, 124, 127]],\n",
       "\n",
       "       [[ 33,  33,  25],\n",
       "        [ 33,  33,  25],\n",
       "        [ 34,  34,  26],\n",
       "        ...,\n",
       "        [122, 123, 125],\n",
       "        [121, 125, 128],\n",
       "        [120, 123, 128]],\n",
       "\n",
       "       [[ 35,  35,  27],\n",
       "        [ 35,  35,  27],\n",
       "        [ 36,  36,  28],\n",
       "        ...,\n",
       "        [124, 125, 129],\n",
       "        [122, 125, 130],\n",
       "        [121, 124, 129]]], dtype=uint8)"
      ]
     },
     "execution_count": 13,
     "metadata": {},
     "output_type": "execute_result"
    }
   ],
   "source": [
    "#draw bounding on the the image\n",
    "xmin, xmax, ymin, ymax = coords[0]\n",
    "pt1 = (xmin, ymin)\n",
    "pt2 = (xmax, ymax)\n",
    "print(pt1, pt2)\n",
    "cv2.rectangle(image, pt1, pt2, (0,255,0),3)"
   ]
  },
  {
   "cell_type": "code",
   "execution_count": 14,
   "id": "5349ea5b",
   "metadata": {},
   "outputs": [
    {
     "data": {
      "text/plain": [
       "<Figure size 720x576 with 0 Axes>"
      ]
     },
     "execution_count": 14,
     "metadata": {},
     "output_type": "execute_result"
    },
    {
     "data": {
      "text/plain": [
       "<Figure size 720x576 with 0 Axes>"
      ]
     },
     "metadata": {},
     "output_type": "display_data"
    }
   ],
   "source": [
    "#plt.figure(figsize=(10,8))\n",
    "#plt.imshow(image)\n",
    "#plt.show()\n",
    "#plt.rcParams[\"figure.figsize\"] = (10,8)"
   ]
  },
  {
   "cell_type": "code",
   "execution_count": 15,
   "id": "ed382ff4",
   "metadata": {},
   "outputs": [],
   "source": [
    "import pytesseract as pt"
   ]
  },
  {
   "cell_type": "code",
   "execution_count": 16,
   "id": "86a852f1",
   "metadata": {},
   "outputs": [
    {
     "ename": "NameError",
     "evalue": "name 'cods' is not defined",
     "output_type": "error",
     "traceback": [
      "\u001b[1;31m---------------------------------------------------------------------------\u001b[0m",
      "\u001b[1;31mNameError\u001b[0m                                 Traceback (most recent call last)",
      "Input \u001b[1;32mIn [16]\u001b[0m, in \u001b[0;36m<cell line: 2>\u001b[1;34m()\u001b[0m\n\u001b[0;32m      1\u001b[0m img \u001b[38;5;241m=\u001b[39m np\u001b[38;5;241m.\u001b[39marray(load_img(path))\n\u001b[1;32m----> 2\u001b[0m xmin, xmax, ymin, ymax \u001b[38;5;241m=\u001b[39m \u001b[43mcods\u001b[49m[\u001b[38;5;241m0\u001b[39m]\n\u001b[0;32m      3\u001b[0m roi \u001b[38;5;241m=\u001b[39m img[ymin:ymax, xmin:xmax]\n",
      "\u001b[1;31mNameError\u001b[0m: name 'cods' is not defined"
     ]
    }
   ],
   "source": [
    "img = np.array(load_img(path))\n",
    "xmin, xmax, ymin, ymax = cods[0]\n",
    "roi = img[ymin:ymax, xmin:xmax]"
   ]
  },
  {
   "cell_type": "code",
   "execution_count": null,
   "id": "21edc1f5",
   "metadata": {},
   "outputs": [],
   "source": []
  }
 ],
 "metadata": {
  "kernelspec": {
   "display_name": "Python 3 (ipykernel)",
   "language": "python",
   "name": "python3"
  },
  "language_info": {
   "codemirror_mode": {
    "name": "ipython",
    "version": 3
   },
   "file_extension": ".py",
   "mimetype": "text/x-python",
   "name": "python",
   "nbconvert_exporter": "python",
   "pygments_lexer": "ipython3",
   "version": "3.9.12"
  }
 },
 "nbformat": 4,
 "nbformat_minor": 5
}
