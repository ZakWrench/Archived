{
 "cells": [
  {
   "cell_type": "code",
   "execution_count": 2,
   "id": "42d55e8c",
   "metadata": {},
   "outputs": [],
   "source": [
    "#np is a standard annotation\n",
    "import numpy as np"
   ]
  },
  {
   "cell_type": "code",
   "execution_count": 2,
   "id": "a2d3a81b",
   "metadata": {},
   "outputs": [
    {
     "data": {
      "text/plain": [
       "array([1, 2, 3, 4, 5, 6])"
      ]
     },
     "execution_count": 2,
     "metadata": {},
     "output_type": "execute_result"
    }
   ],
   "source": [
    "#To create a NumPy array, you can use the function np.array(). We initialize array inside square brackets[]\n",
    "a = np.array([1,2,3,4,5,6])\n",
    "a"
   ]
  },
  {
   "cell_type": "code",
   "execution_count": 10,
   "id": "45ff9a78",
   "metadata": {},
   "outputs": [
    {
     "name": "stdout",
     "output_type": "stream",
     "text": [
      "[0. 0. 0.]\n",
      "[1. 1.]\n"
     ]
    }
   ],
   "source": [
    "#Creating array filled with 0s and 1s\n",
    "np_zero = np.zeros(3)\n",
    "print(np_zero)\n",
    "np_one = np.ones(2)\n",
    "print(np_one)"
   ]
  },
  {
   "cell_type": "code",
   "execution_count": 12,
   "id": "9f40e1a7",
   "metadata": {},
   "outputs": [
    {
     "name": "stdout",
     "output_type": "stream",
     "text": [
      "[ 2  4  6  8 10] \n",
      " [ 2  4  6  8 10] \n",
      " [2.  4.5 7.  9.5]\n"
     ]
    }
   ],
   "source": [
    "#Creating an array with a range of evenly spaced intervals.\n",
    "#np.arrange(starting number, ending number(not included), steps)\n",
    "#ending number doesn't show up, if it's odd and the step is even, last number before the odd number is shown stepping by an odd number\n",
    "a_arange = np.arange(2,12,2)\n",
    "b_arange = np.arange(2, 11, 2)\n",
    "c_arange = np.arange(2,11, 2.5)\n",
    "\n",
    "print(a_arange,\"\\n\",b_arange,\"\\n\",c_arange)"
   ]
  },
  {
   "cell_type": "code",
   "execution_count": 16,
   "id": "a6c602ad",
   "metadata": {},
   "outputs": [
    {
     "name": "stdout",
     "output_type": "stream",
     "text": [
      "[ 0.   2.5  5.   7.5 10. ]\n",
      "[ 0.          4.66666667  9.33333333 14.        ]\n"
     ]
    }
   ],
   "source": [
    "#We can also use np.linspace() to create an array with values that are spaced linearly in a specified interval:\n",
    "#np.linspace(starting number, ending number(included), total number)\n",
    "a_lspce = np.linspace(0,10, num = 5)\n",
    "print (a_lspce)\n",
    "b_lspce = np.linspace(0, 14, num = 4)\n",
    "print(b_lspce)"
   ]
  },
  {
   "cell_type": "code",
   "execution_count": 21,
   "id": "f16e5f7c",
   "metadata": {},
   "outputs": [
    {
     "name": "stdout",
     "output_type": "stream",
     "text": [
      "[1 2 3 4 5 7] \n",
      " [-7 -1  2  3  4  5]\n",
      "[-8 -1  3  4  7]\n"
     ]
    }
   ],
   "source": [
    "#Sorting \n",
    "arr1 = np.array([2,1,5,3,7,4])\n",
    "arr2 = np.array([2,-1,5,3,-7,4])\n",
    "\n",
    "print(np.sort(arr1),\"\\n\",np.sort(arr2))\n",
    "\n",
    "arr3 = np.sort(np.array([4,-1,3,7,-8]))\n",
    "print(arr3)"
   ]
  },
  {
   "cell_type": "code",
   "execution_count": 28,
   "id": "065cf74d",
   "metadata": {},
   "outputs": [
    {
     "name": "stdout",
     "output_type": "stream",
     "text": [
      "[ 1 -1  3  4  5  6]\n"
     ]
    },
    {
     "data": {
      "text/plain": [
       "array([-1,  1,  3,  4,  5,  6])"
      ]
     },
     "execution_count": 28,
     "metadata": {},
     "output_type": "execute_result"
    }
   ],
   "source": [
    "#Concatenate np.concatenate()\n",
    "a = np.array([1,-1,3,4])\n",
    "b = np.array([5,6])\n",
    "print(np.concatenate((a,b)))\n",
    "np.sort(np.concatenate((a,b)))"
   ]
  },
  {
   "cell_type": "code",
   "execution_count": 41,
   "id": "129b57d5",
   "metadata": {
    "scrolled": true
   },
   "outputs": [
    {
     "data": {
      "text/plain": [
       "array([4, 5, 6])"
      ]
     },
     "execution_count": 41,
     "metadata": {},
     "output_type": "execute_result"
    }
   ],
   "source": [
    "#delete elements from an array\n",
    "#np.delete(a,index)\n",
    "a = np.array([1,2,3])\n",
    "# a[0] : index\n",
    "np.delete(a,0)\n",
    "np.add(a,3)"
   ]
  },
  {
   "cell_type": "code",
   "execution_count": 46,
   "id": "9448176b",
   "metadata": {},
   "outputs": [
    {
     "name": "stdout",
     "output_type": "stream",
     "text": [
      "[[0 1 2 3]\n",
      " [4 5 6 7]]\n",
      "2\n",
      "8\n"
     ]
    },
    {
     "data": {
      "text/plain": [
       "(2, 4)"
      ]
     },
     "execution_count": 46,
     "metadata": {},
     "output_type": "execute_result"
    }
   ],
   "source": [
    "#Multi dimention arrays\n",
    "multi_dim = np.array([[0,1,2,3],[4,5,6,7]])\n",
    "print(multi_dim)\n",
    "print(multi_dim.ndim) #dimension\n",
    "print(multi_dim.size) #number of element in array\n",
    "multi_dim.shape#(row, col)"
   ]
  },
  {
   "cell_type": "code",
   "execution_count": 51,
   "id": "90607e88",
   "metadata": {},
   "outputs": [
    {
     "name": "stdout",
     "output_type": "stream",
     "text": [
      "(2, 2, 4)\n",
      "3\n",
      "16\n",
      "(3, 2, 4)\n",
      "3\n",
      "24\n"
     ]
    }
   ],
   "source": [
    "multi_dim = np.array([\n",
    "    [[0,1,2,3],\n",
    "    [4,5,6,7]],\n",
    "    [[0,2,4,6],\n",
    "    [8,10,12,14]]\n",
    "])\n",
    "print(multi_dim.shape)#height, rows, cols\n",
    "print(multi_dim.ndim)#number of dimensions\n",
    "print(multi_dim.size)#number of elements\n",
    "\n",
    "multi_dim2 = np.array([\n",
    "    [[0,1,2,3],\n",
    "    [4,5,6,7]],\n",
    "    [[0,2,4,6],\n",
    "    [8,10,12,14]],\n",
    "    [[1,2,3,4],\n",
    "     [1,2,3,4]]\n",
    "])\n",
    "\n",
    "print(multi_dim2.shape)\n",
    "print(multi_dim2.ndim)\n",
    "print(multi_dim2.size)"
   ]
  },
  {
   "cell_type": "code",
   "execution_count": 4,
   "id": "cdbddd89",
   "metadata": {},
   "outputs": [
    {
     "name": "stdout",
     "output_type": "stream",
     "text": [
      "5\n",
      "[1 2]\n",
      "[  3   5 100]\n",
      "[  5 100]\n",
      "\n",
      "\n",
      "[[1 2]\n",
      " [4 5]]\n",
      "[[10]\n",
      " [ 6]]\n"
     ]
    }
   ],
   "source": [
    "#indexing and slicing\n",
    "#You may want to take a specific section of your array to use in further analysis or operations.\n",
    "#in python, index always start from 0.\n",
    "\n",
    "data = np.array([1,2,3,5,100])\n",
    "print(data[3])\n",
    "\n",
    "print(data[0:2])# index [2] isn't included\n",
    "\n",
    "print(data[-3:]) #pick last 3 elements in the array\n",
    "print(data[-2:])\n",
    "print(\"\\n\")\n",
    "data_2d = np.array([[1,2,10],[4,5,6]])\n",
    "print(data_2d[:2,:2])# we pick the rows based on how many we specify, then specify the cols \n",
    "print(data_2d[:2,-1:])"
   ]
  },
  {
   "cell_type": "code",
   "execution_count": 78,
   "id": "26f10b70",
   "metadata": {},
   "outputs": [
    {
     "name": "stdout",
     "output_type": "stream",
     "text": [
      "[1 2 3]\n",
      "[2 4]\n",
      "[3]\n",
      "[2 4]\n"
     ]
    }
   ],
   "source": [
    "#subset of an array\n",
    "data = np.array([1,2,3,4])\n",
    "\n",
    "#less than equal to 3\n",
    "print(data[data<=3])\n",
    "\n",
    "#divisible by 2\n",
    "print(data[data%2 ==0])\n",
    "\n",
    "#select elements that satisfy two conditions using the & and | operators:\n",
    "print(data[(data >2) & (data < 4)])\n",
    "print(data[(data == 4) | (data == 2)])\n",
    "\n",
    "# a = 2"
   ]
  },
  {
   "cell_type": "code",
   "execution_count": 80,
   "id": "4c348a5a",
   "metadata": {},
   "outputs": [
    {
     "name": "stdout",
     "output_type": "stream",
     "text": [
      "[False False False False False False]\n"
     ]
    }
   ],
   "source": [
    "#logical operators & and | can return boolean values that specify whether or not the values in an array fullfil a certain condition\n",
    "data = np.array([1,2,3,4,5,6])\n",
    "\n",
    "gt_eq_4 = (data > 4) | (data == 4)\n",
    "print(gt_eq_4)"
   ]
  },
  {
   "cell_type": "code",
   "execution_count": 8,
   "id": "82e6a034",
   "metadata": {},
   "outputs": [
    {
     "name": "stdout",
     "output_type": "stream",
     "text": [
      "[0 3 4]\n"
     ]
    }
   ],
   "source": [
    "#Basic array operations\n",
    "\n",
    "#addition\n",
    "data = np.array([-1,2,3])\n",
    "ones = np.ones(3,dtype=int) #creating an array of ones\n",
    "dataones = data + ones # we add +1 to every element in the array\n",
    "print(dataones) "
   ]
  },
  {
   "cell_type": "code",
   "execution_count": 93,
   "id": "6ab960b8",
   "metadata": {},
   "outputs": [
    {
     "name": "stdout",
     "output_type": "stream",
     "text": [
      "[-2  1  2] [-1  2  3] [-1.  2.  3.] [0 0 0]\n"
     ]
    }
   ],
   "source": [
    "#substraction\n",
    "#[-1,2,3]\n",
    "dataones_sub = data - ones\n",
    "\n",
    "#multiplication\n",
    "dataones_mult = data * ones\n",
    "\n",
    "#division\n",
    "dataones_div = data / ones\n",
    "\n",
    "#modulo?\n",
    "dataones_mod = data % ones\n",
    "\n",
    "print(dataones_sub,dataones_mult, dataones_div, dataones_mod)"
   ]
  },
  {
   "cell_type": "code",
   "execution_count": 96,
   "id": "e9522776",
   "metadata": {},
   "outputs": [
    {
     "name": "stdout",
     "output_type": "stream",
     "text": [
      "10\n",
      "[13  3]\n",
      "[11  5]\n"
     ]
    }
   ],
   "source": [
    "# sum of elements in an array\n",
    "a = np.array([1,2,3,4])\n",
    "print(a.sum())\n",
    "\n",
    "#multi-dimension\n",
    "b = np.array([[10,1],[3,2]])\n",
    "\n",
    "print(b.sum(axis = 0)) # sum across columns\n",
    "print(b.sum(axis = 1)) # sum across rows"
   ]
  },
  {
   "cell_type": "code",
   "execution_count": 99,
   "id": "54962ae0",
   "metadata": {},
   "outputs": [
    {
     "name": "stdout",
     "output_type": "stream",
     "text": [
      "1\n",
      "5\n",
      "3.0\n",
      "1.4142135623730951\n"
     ]
    }
   ],
   "source": [
    "# min, max, mean, and standard\n",
    "a = np.array([1,2,3,4,5])\n",
    "\n",
    "#minimun in an array\n",
    "print(a.min())\n",
    "\n",
    "#maximum of an array\n",
    "print(a.max())\n",
    "\n",
    "#mean of an array\n",
    "print(a.mean())\n",
    "\n",
    "#standard deviation of an array\n",
    "print(a.std())"
   ]
  },
  {
   "cell_type": "code",
   "execution_count": 9,
   "id": "48368d2a",
   "metadata": {},
   "outputs": [
    {
     "name": "stdout",
     "output_type": "stream",
     "text": [
      "10 4 [2 1] [1 3]\n"
     ]
    }
   ],
   "source": [
    "#operations: multi - dimension array\n",
    "data = np.array([[2,1],\n",
    "                [3,4]])\n",
    "print(data.sum(), data.max(), data.min(axis = 0), data.min(axis = 1))\n"
   ]
  },
  {
   "cell_type": "code",
   "execution_count": null,
   "id": "e5e69eab",
   "metadata": {},
   "outputs": [],
   "source": []
  }
 ],
 "metadata": {
  "kernelspec": {
   "display_name": "Python 3 (ipykernel)",
   "language": "python",
   "name": "python3"
  },
  "language_info": {
   "codemirror_mode": {
    "name": "ipython",
    "version": 3
   },
   "file_extension": ".py",
   "mimetype": "text/x-python",
   "name": "python",
   "nbconvert_exporter": "python",
   "pygments_lexer": "ipython3",
   "version": "3.9.12"
  }
 },
 "nbformat": 4,
 "nbformat_minor": 5
}
